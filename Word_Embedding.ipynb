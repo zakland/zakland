{
  "nbformat": 4,
  "nbformat_minor": 0,
  "metadata": {
    "colab": {
      "name": "Word Embedding.ipynb",
      "provenance": [],
      "collapsed_sections": [],
      "include_colab_link": true
    },
    "kernelspec": {
      "display_name": "Python 3",
      "name": "python3"
    }
  },
  "cells": [
    {
      "cell_type": "markdown",
      "metadata": {
        "id": "view-in-github",
        "colab_type": "text"
      },
      "source": [
        "<a href=\"https://colab.research.google.com/github/zakland/zakland/blob/main/Word_Embedding.ipynb\" target=\"_parent\"><img src=\"https://colab.research.google.com/assets/colab-badge.svg\" alt=\"Open In Colab\"/></a>"
      ]
    },
    {
      "cell_type": "markdown",
      "metadata": {
        "id": "jiiupVYbvwhs"
      },
      "source": [
        "Cara download data dari Kaggle: https://www.kaggle.com/general/74235\n",
        "\n",
        "Link download data: https://www.kaggle.com/team-ai/spam-text-message-classification"
      ]
    },
    {
      "cell_type": "markdown",
      "metadata": {
        "id": "Y0K-pZS62cwP"
      },
      "source": [
        "# 1 Download Data"
      ]
    },
    {
      "cell_type": "code",
      "metadata": {
        "id": "8SzDjdEo2JZg"
      },
      "source": [
        " ! pip install -q kaggle"
      ],
      "execution_count": null,
      "outputs": []
    },
    {
      "cell_type": "code",
      "metadata": {
        "id": "jHd-Got92jrA"
      },
      "source": [
        "from google.colab import files\n",
        "\n",
        "files.upload()"
      ],
      "execution_count": null,
      "outputs": []
    },
    {
      "cell_type": "code",
      "metadata": {
        "id": "s93dTvx_2nng"
      },
      "source": [
        "! mkdir ~/.kaggle\n",
        "! cp kaggle.json ~/.kaggle/"
      ],
      "execution_count": null,
      "outputs": []
    },
    {
      "cell_type": "code",
      "metadata": {
        "id": "nmiAp5T22s6S"
      },
      "source": [
        "! chmod 600 ~/.kaggle/kaggle.json"
      ],
      "execution_count": null,
      "outputs": []
    },
    {
      "cell_type": "code",
      "metadata": {
        "colab": {
          "base_uri": "https://localhost:8080/"
        },
        "id": "DSC-bxdz2vKy",
        "outputId": "bb8f24cf-aa9b-430b-8fee-ea515606f83a"
      },
      "source": [
        "!kaggle datasets download -d team-ai/spam-text-message-classification"
      ],
      "execution_count": null,
      "outputs": [
        {
          "output_type": "stream",
          "text": [
            "Downloading spam-text-message-classification.zip to /content\n",
            "\r  0% 0.00/208k [00:00<?, ?B/s]\n",
            "\r100% 208k/208k [00:00<00:00, 31.7MB/s]\n"
          ],
          "name": "stdout"
        }
      ]
    },
    {
      "cell_type": "code",
      "metadata": {
        "colab": {
          "base_uri": "https://localhost:8080/"
        },
        "id": "7GchakU02xQ3",
        "outputId": "8271d95b-11f0-439a-a76e-0b5985f4a7ca"
      },
      "source": [
        "! unzip spam-text-message-classification.zip"
      ],
      "execution_count": null,
      "outputs": [
        {
          "output_type": "stream",
          "text": [
            "Archive:  spam-text-message-classification.zip\n",
            "  inflating: SPAM text message 20170820 - Data.csv  \n"
          ],
          "name": "stdout"
        }
      ]
    },
    {
      "cell_type": "markdown",
      "metadata": {
        "id": "0532Hf632sbR"
      },
      "source": [
        "# 2 Read Data"
      ]
    },
    {
      "cell_type": "code",
      "metadata": {
        "id": "RUQOe58422OO"
      },
      "source": [
        "import pandas as pd"
      ],
      "execution_count": null,
      "outputs": []
    },
    {
      "cell_type": "code",
      "metadata": {
        "id": "_9Rq6p7823G8"
      },
      "source": [
        "df = pd.read_csv('SPAM text message 20170820 - Data.csv')"
      ],
      "execution_count": null,
      "outputs": []
    },
    {
      "cell_type": "code",
      "metadata": {
        "id": "z3A1mRwg23BZ",
        "colab": {
          "base_uri": "https://localhost:8080/",
          "height": 424
        },
        "outputId": "84a95332-8705-44ca-9027-af23c3f49fdb"
      },
      "source": [
        "df"
      ],
      "execution_count": null,
      "outputs": [
        {
          "output_type": "execute_result",
          "data": {
            "text/html": [
              "<div>\n",
              "<style scoped>\n",
              "    .dataframe tbody tr th:only-of-type {\n",
              "        vertical-align: middle;\n",
              "    }\n",
              "\n",
              "    .dataframe tbody tr th {\n",
              "        vertical-align: top;\n",
              "    }\n",
              "\n",
              "    .dataframe thead th {\n",
              "        text-align: right;\n",
              "    }\n",
              "</style>\n",
              "<table border=\"1\" class=\"dataframe\">\n",
              "  <thead>\n",
              "    <tr style=\"text-align: right;\">\n",
              "      <th></th>\n",
              "      <th>Category</th>\n",
              "      <th>Message</th>\n",
              "    </tr>\n",
              "  </thead>\n",
              "  <tbody>\n",
              "    <tr>\n",
              "      <th>0</th>\n",
              "      <td>ham</td>\n",
              "      <td>Go until jurong point, crazy.. Available only ...</td>\n",
              "    </tr>\n",
              "    <tr>\n",
              "      <th>1</th>\n",
              "      <td>ham</td>\n",
              "      <td>Ok lar... Joking wif u oni...</td>\n",
              "    </tr>\n",
              "    <tr>\n",
              "      <th>2</th>\n",
              "      <td>spam</td>\n",
              "      <td>Free entry in 2 a wkly comp to win FA Cup fina...</td>\n",
              "    </tr>\n",
              "    <tr>\n",
              "      <th>3</th>\n",
              "      <td>ham</td>\n",
              "      <td>U dun say so early hor... U c already then say...</td>\n",
              "    </tr>\n",
              "    <tr>\n",
              "      <th>4</th>\n",
              "      <td>ham</td>\n",
              "      <td>Nah I don't think he goes to usf, he lives aro...</td>\n",
              "    </tr>\n",
              "    <tr>\n",
              "      <th>...</th>\n",
              "      <td>...</td>\n",
              "      <td>...</td>\n",
              "    </tr>\n",
              "    <tr>\n",
              "      <th>5567</th>\n",
              "      <td>spam</td>\n",
              "      <td>This is the 2nd time we have tried 2 contact u...</td>\n",
              "    </tr>\n",
              "    <tr>\n",
              "      <th>5568</th>\n",
              "      <td>ham</td>\n",
              "      <td>Will ü b going to esplanade fr home?</td>\n",
              "    </tr>\n",
              "    <tr>\n",
              "      <th>5569</th>\n",
              "      <td>ham</td>\n",
              "      <td>Pity, * was in mood for that. So...any other s...</td>\n",
              "    </tr>\n",
              "    <tr>\n",
              "      <th>5570</th>\n",
              "      <td>ham</td>\n",
              "      <td>The guy did some bitching but I acted like i'd...</td>\n",
              "    </tr>\n",
              "    <tr>\n",
              "      <th>5571</th>\n",
              "      <td>ham</td>\n",
              "      <td>Rofl. Its true to its name</td>\n",
              "    </tr>\n",
              "  </tbody>\n",
              "</table>\n",
              "<p>5572 rows × 2 columns</p>\n",
              "</div>"
            ],
            "text/plain": [
              "     Category                                            Message\n",
              "0         ham  Go until jurong point, crazy.. Available only ...\n",
              "1         ham                      Ok lar... Joking wif u oni...\n",
              "2        spam  Free entry in 2 a wkly comp to win FA Cup fina...\n",
              "3         ham  U dun say so early hor... U c already then say...\n",
              "4         ham  Nah I don't think he goes to usf, he lives aro...\n",
              "...       ...                                                ...\n",
              "5567     spam  This is the 2nd time we have tried 2 contact u...\n",
              "5568      ham               Will ü b going to esplanade fr home?\n",
              "5569      ham  Pity, * was in mood for that. So...any other s...\n",
              "5570      ham  The guy did some bitching but I acted like i'd...\n",
              "5571      ham                         Rofl. Its true to its name\n",
              "\n",
              "[5572 rows x 2 columns]"
            ]
          },
          "metadata": {
            "tags": []
          },
          "execution_count": 35
        }
      ]
    },
    {
      "cell_type": "code",
      "metadata": {
        "colab": {
          "base_uri": "https://localhost:8080/"
        },
        "id": "hvu_fWYHebmm",
        "outputId": "fc50ab44-22f4-43a9-90bf-22aee832a6f6"
      },
      "source": [
        "df.iloc[1612]"
      ],
      "execution_count": null,
      "outputs": [
        {
          "output_type": "execute_result",
          "data": {
            "text/plain": [
              "Category    ham\n",
              "Message     645\n",
              "Name: 1612, dtype: object"
            ]
          },
          "metadata": {
            "tags": []
          },
          "execution_count": 36
        }
      ]
    },
    {
      "cell_type": "code",
      "metadata": {
        "id": "ovJ3mRrj3ArL",
        "colab": {
          "base_uri": "https://localhost:8080/",
          "height": 175
        },
        "outputId": "374d85e7-31b7-47b4-bacf-8401b42dd2e6"
      },
      "source": [
        "df.describe()"
      ],
      "execution_count": null,
      "outputs": [
        {
          "output_type": "execute_result",
          "data": {
            "text/html": [
              "<div>\n",
              "<style scoped>\n",
              "    .dataframe tbody tr th:only-of-type {\n",
              "        vertical-align: middle;\n",
              "    }\n",
              "\n",
              "    .dataframe tbody tr th {\n",
              "        vertical-align: top;\n",
              "    }\n",
              "\n",
              "    .dataframe thead th {\n",
              "        text-align: right;\n",
              "    }\n",
              "</style>\n",
              "<table border=\"1\" class=\"dataframe\">\n",
              "  <thead>\n",
              "    <tr style=\"text-align: right;\">\n",
              "      <th></th>\n",
              "      <th>Category</th>\n",
              "      <th>Message</th>\n",
              "    </tr>\n",
              "  </thead>\n",
              "  <tbody>\n",
              "    <tr>\n",
              "      <th>count</th>\n",
              "      <td>5572</td>\n",
              "      <td>5572</td>\n",
              "    </tr>\n",
              "    <tr>\n",
              "      <th>unique</th>\n",
              "      <td>2</td>\n",
              "      <td>5157</td>\n",
              "    </tr>\n",
              "    <tr>\n",
              "      <th>top</th>\n",
              "      <td>ham</td>\n",
              "      <td>Sorry, I'll call later</td>\n",
              "    </tr>\n",
              "    <tr>\n",
              "      <th>freq</th>\n",
              "      <td>4825</td>\n",
              "      <td>30</td>\n",
              "    </tr>\n",
              "  </tbody>\n",
              "</table>\n",
              "</div>"
            ],
            "text/plain": [
              "       Category                 Message\n",
              "count      5572                    5572\n",
              "unique        2                    5157\n",
              "top         ham  Sorry, I'll call later\n",
              "freq       4825                      30"
            ]
          },
          "metadata": {
            "tags": []
          },
          "execution_count": 10
        }
      ]
    },
    {
      "cell_type": "code",
      "metadata": {
        "id": "-_KLTauA3Buy",
        "colab": {
          "base_uri": "https://localhost:8080/",
          "height": 317
        },
        "outputId": "048477b5-10b6-4760-bc8f-97cd8931ffc7"
      },
      "source": [
        "df.groupby('Category').count().plot.bar()"
      ],
      "execution_count": null,
      "outputs": [
        {
          "output_type": "execute_result",
          "data": {
            "text/plain": [
              "<matplotlib.axes._subplots.AxesSubplot at 0x7fb0114515d0>"
            ]
          },
          "metadata": {
            "tags": []
          },
          "execution_count": 11
        },
        {
          "output_type": "display_data",
          "data": {
            "image/png": "[encoded data removed]",
            "text/plain": [
              "<Figure size 432x288 with 1 Axes>"
            ]
          },
          "metadata": {
            "tags": [],
            "needs_background": "light"
          }
        }
      ]
    },
    {
      "cell_type": "markdown",
      "metadata": {
        "id": "5vHXtvMw2m8s"
      },
      "source": [
        "# 3 Text Classification"
      ]
    },
    {
      "cell_type": "code",
      "metadata": {
        "id": "U9l1ec373R2f",
        "colab": {
          "base_uri": "https://localhost:8080/"
        },
        "outputId": "b219989e-f494-454b-c646-4f38a3d36c8d"
      },
      "source": [
        "import nltk\n",
        "nltk.download('punkt')\n",
        "\n",
        "import numpy as np\n",
        "from sklearn.preprocessing import LabelEncoder\n",
        "from sklearn.model_selection import train_test_split\n",
        "\n",
        "from keras.layers import Dense, Dropout, LSTM, Embedding, Flatten\n",
        "from keras.models import Sequential\n",
        "from keras.preprocessing.text import Tokenizer\n",
        "from keras.preprocessing.sequence import pad_sequences"
      ],
      "execution_count": null,
      "outputs": [
        {
          "output_type": "stream",
          "text": [
            "[nltk_data] Downloading package punkt to /root/nltk_data...\n",
            "[nltk_data]   Unzipping tokenizers/punkt.zip.\n"
          ],
          "name": "stdout"
        }
      ]
    },
    {
      "cell_type": "markdown",
      "metadata": {
        "id": "qrzfIujv49cY"
      },
      "source": [
        "## 3.1 Preprocessing"
      ]
    },
    {
      "cell_type": "code",
      "metadata": {
        "id": "4k5DAYWo1i3L",
        "colab": {
          "base_uri": "https://localhost:8080/"
        },
        "outputId": "c5f1a083-18f5-4b44-880d-a70cab22c20c"
      },
      "source": [
        "!wget -P /root/input/ -c \"https://s3.amazonaws.com/dl4j-distribution/GoogleNews-vectors-negative300.bin.gz\""
      ],
      "execution_count": null,
      "outputs": [
        {
          "output_type": "stream",
          "text": [
            "--2021-03-20 03:24:38--  https://s3.amazonaws.com/dl4j-distribution/GoogleNews-vectors-negative300.bin.gz\n",
            "Resolving s3.amazonaws.com (s3.amazonaws.com)... 52.216.250.118\n",
            "Connecting to s3.amazonaws.com (s3.amazonaws.com)|52.216.250.118|:443... connected.\n",
            "HTTP request sent, awaiting response... 200 OK\n",
            "Length: 1647046227 (1.5G) [application/x-gzip]\n",
            "Saving to: ‘/root/input/GoogleNews-vectors-negative300.bin.gz’\n",
            "\n",
            "GoogleNews-vectors- 100%[===================>]   1.53G  47.8MB/s    in 34s     \n",
            "\n",
            "2021-03-20 03:25:12 (46.8 MB/s) - ‘/root/input/GoogleNews-vectors-negative300.bin.gz’ saved [1647046227/1647046227]\n",
            "\n"
          ],
          "name": "stdout"
        }
      ]
    },
    {
      "cell_type": "code",
      "metadata": {
        "id": "LbmBQJOC19Gq",
        "colab": {
          "base_uri": "https://localhost:8080/"
        },
        "outputId": "5dc4fe19-abf7-46da-abe3-5cd7ff1d9113"
      },
      "source": [
        "!pip install gensim\n",
        "from gensim.models import KeyedVectors"
      ],
      "execution_count": null,
      "outputs": [
        {
          "output_type": "stream",
          "text": [
            "Requirement already satisfied: gensim in /usr/local/lib/python3.7/dist-packages (3.6.0)\n",
            "Requirement already satisfied: smart-open>=1.2.1 in /usr/local/lib/python3.7/dist-packages (from gensim) (4.2.0)\n",
            "Requirement already satisfied: numpy>=1.11.3 in /usr/local/lib/python3.7/dist-packages (from gensim) (1.19.5)\n",
            "Requirement already satisfied: scipy>=0.18.1 in /usr/local/lib/python3.7/dist-packages (from gensim) (1.4.1)\n",
            "Requirement already satisfied: six>=1.5.0 in /usr/local/lib/python3.7/dist-packages (from gensim) (1.15.0)\n"
          ],
          "name": "stdout"
        }
      ]
    },
    {
      "cell_type": "code",
      "metadata": {
        "id": "F-jmwsdQ2JL-"
      },
      "source": [
        "EMBEDDING_FILE = '/root/input/GoogleNews-vectors-negative300.bin.gz' # from above\n",
        "word2vec = KeyedVectors.load_word2vec_format(EMBEDDING_FILE, binary=True)"
      ],
      "execution_count": null,
      "outputs": []
    },
    {
      "cell_type": "code",
      "metadata": {
        "id": "a8vUu5iOyQ2W"
      },
      "source": [
        "def tokenize(data):\n",
        "    tokenized=[]\n",
        "    for d in data:\n",
        "        tokenized.append(nltk.word_tokenize(d.lower()))\n",
        "    return tokenized"
      ],
      "execution_count": null,
      "outputs": []
    },
    {
      "cell_type": "code",
      "metadata": {
        "id": "zEtBcbr30EF9"
      },
      "source": [
        "def vectorize(tokenized_data):\n",
        "    vectorized=[]\n",
        "    for sentence in tokenized_data:\n",
        "        sentvec = []\n",
        "        for w in sentence:\n",
        "          if w in word2vec.vocab:\n",
        "            sentvec.append(word2vec[w])\n",
        "          else:\n",
        "            sentvec.append(np.zeros((300)))\n",
        "        vectorized.append(sentvec)\n",
        "    return vectorized"
      ],
      "execution_count": null,
      "outputs": []
    },
    {
      "cell_type": "code",
      "metadata": {
        "id": "5qHSuJSCEjjp"
      },
      "source": [
        "def padding(vec):\n",
        "  padded = []\n",
        "  for i, v in enumerate(vec):\n",
        "    vector = []\n",
        "    if len(v) < max_length:\n",
        "      pad_count = max_length - len(v)\n",
        "      pad = np.zeros((pad_count, 300))\n",
        "      vector = np.append(v, pad,axis = 0)\n",
        "    else:\n",
        "      vector = v[:max_length]\n",
        "    padded.append(vector)\n",
        "  return padded"
      ],
      "execution_count": null,
      "outputs": []
    },
    {
      "cell_type": "code",
      "metadata": {
        "id": "WpNSUOcb6YO9"
      },
      "source": [
        "max_length = 50"
      ],
      "execution_count": null,
      "outputs": []
    },
    {
      "cell_type": "code",
      "metadata": {
        "colab": {
          "base_uri": "https://localhost:8080/"
        },
        "id": "AMZKpkSjinuh",
        "outputId": "d2869133-9103-4bb4-a171-2685c7d166e2"
      },
      "source": [
        "label = LabelEncoder().fit_transform(df['Category'])\n",
        "label"
      ],
      "execution_count": null,
      "outputs": [
        {
          "output_type": "execute_result",
          "data": {
            "text/plain": [
              "array([0, 0, 1, ..., 0, 0, 0])"
            ]
          },
          "metadata": {
            "tags": []
          },
          "execution_count": 81
        }
      ]
    },
    {
      "cell_type": "code",
      "metadata": {
        "id": "FjbQoLQ_iiND"
      },
      "source": [
        "X_train, X_test, y_train, y_test = train_test_split(df['Message'], label, test_size=0.2, random_state=42)"
      ],
      "execution_count": null,
      "outputs": []
    },
    {
      "cell_type": "code",
      "metadata": {
        "id": "sWxpjrRlirup"
      },
      "source": [
        "X_train_tok = tokenize(X_train)\n",
        "X_test_tok = tokenize(X_test)"
      ],
      "execution_count": null,
      "outputs": []
    },
    {
      "cell_type": "code",
      "metadata": {
        "id": "Ahm2Md6Xirrf"
      },
      "source": [
        "X_train_vec = vectorize(X_train_tok)\n",
        "X_test_vec = vectorize(X_test_tok)"
      ],
      "execution_count": null,
      "outputs": []
    },
    {
      "cell_type": "code",
      "metadata": {
        "id": "Uw9ac49MiroY"
      },
      "source": [
        "X_train_pad= padding(X_train_vec)\n",
        "X_test_pad = padding(X_test_vec)"
      ],
      "execution_count": null,
      "outputs": []
    },
    {
      "cell_type": "code",
      "metadata": {
        "id": "xTamPIPTk8r1"
      },
      "source": [
        "X_train_pad = np.array(X_train_pad)\n",
        "X_test_pad = np.array(X_test_pad)"
      ],
      "execution_count": null,
      "outputs": []
    },
    {
      "cell_type": "code",
      "metadata": {
        "colab": {
          "base_uri": "https://localhost:8080/"
        },
        "id": "y8GWS_rAirlt",
        "outputId": "6e681d2e-edeb-40c1-86c3-113e310777a1"
      },
      "source": [
        "print(X_train_pad.shape)\n",
        "print(X_test_pad.shape)"
      ],
      "execution_count": null,
      "outputs": [
        {
          "output_type": "stream",
          "text": [
            "(4457, 50, 300)\n",
            "(1115, 50, 300)\n"
          ],
          "name": "stdout"
        }
      ]
    },
    {
      "cell_type": "markdown",
      "metadata": {
        "id": "XBRg63xXh2xI"
      },
      "source": [
        "## 3.2 Model"
      ]
    },
    {
      "cell_type": "code",
      "metadata": {
        "id": "FNjXOg6DXnWS"
      },
      "source": [
        "#input shape = (50,300)"
      ],
      "execution_count": null,
      "outputs": []
    },
    {
      "cell_type": "code",
      "metadata": {
        "id": "baFbUENfhzzM"
      },
      "source": [
        "model = Sequential([\n",
        "                    LSTM(200, input_shape=(X_train_pad.shape[1], X_train_pad.shape[2]), return_sequences=True),\n",
        "                    LSTM(100, activation='sigmoid', return_sequences=True),\n",
        "                    Dropout(0.5),\n",
        "                    LSTM(50, activation='sigmoid'),\n",
        "                    Dropout(0.5),\n",
        "                    Dense(1, activation='sigmoid')\n",
        "])"
      ],
      "execution_count": null,
      "outputs": []
    },
    {
      "cell_type": "code",
      "metadata": {
        "id": "tYvb5qH5jo9D"
      },
      "source": [
        "model.compile(loss='binary_crossentropy',\n",
        "              optimizer='rmsprop',\n",
        "              metrics=['accuracy'])"
      ],
      "execution_count": null,
      "outputs": []
    },
    {
      "cell_type": "code",
      "metadata": {
        "colab": {
          "base_uri": "https://localhost:8080/"
        },
        "id": "IwACp6UZjqlE",
        "outputId": "a05be75e-38ad-4831-f0e3-30d1b3402ae3"
      },
      "source": [
        "print ('Fitting model...')\n",
        "hist = model.fit(X_train_pad, y_train, batch_size=64, epochs=10, validation_split=0.1, verbose = 1)"
      ],
      "execution_count": null,
      "outputs": [
        {
          "output_type": "stream",
          "text": [
            "Fitting model...\n",
            "Epoch 1/10\n",
            "63/63 [==============================] - 31s 412ms/step - loss: 0.4496 - accuracy: 0.8393 - val_loss: 0.3393 - val_accuracy: 0.8924\n",
            "Epoch 2/10\n",
            "63/63 [==============================] - 25s 393ms/step - loss: 0.2920 - accuracy: 0.9180 - val_loss: 0.1896 - val_accuracy: 0.9439\n",
            "Epoch 3/10\n",
            "63/63 [==============================] - 25s 400ms/step - loss: 0.2075 - accuracy: 0.9380 - val_loss: 0.1709 - val_accuracy: 0.9484\n",
            "Epoch 4/10\n",
            "63/63 [==============================] - 25s 397ms/step - loss: 0.1494 - accuracy: 0.9607 - val_loss: 0.1514 - val_accuracy: 0.9596\n",
            "Epoch 5/10\n",
            "63/63 [==============================] - 25s 401ms/step - loss: 0.1253 - accuracy: 0.9652 - val_loss: 0.1543 - val_accuracy: 0.9529\n",
            "Epoch 6/10\n",
            "63/63 [==============================] - 25s 395ms/step - loss: 0.1227 - accuracy: 0.9610 - val_loss: 0.1281 - val_accuracy: 0.9641\n",
            "Epoch 7/10\n",
            "63/63 [==============================] - 25s 390ms/step - loss: 0.0882 - accuracy: 0.9753 - val_loss: 0.1603 - val_accuracy: 0.9552\n",
            "Epoch 8/10\n",
            "63/63 [==============================] - 24s 388ms/step - loss: 0.0735 - accuracy: 0.9782 - val_loss: 0.1500 - val_accuracy: 0.9596\n",
            "Epoch 9/10\n",
            "63/63 [==============================] - 24s 385ms/step - loss: 0.0541 - accuracy: 0.9864 - val_loss: 0.1520 - val_accuracy: 0.9686\n",
            "Epoch 10/10\n",
            "63/63 [==============================] - 24s 386ms/step - loss: 0.0697 - accuracy: 0.9805 - val_loss: 0.1418 - val_accuracy: 0.9641\n"
          ],
          "name": "stdout"
        }
      ]
    },
    {
      "cell_type": "code",
      "metadata": {
        "colab": {
          "base_uri": "https://localhost:8080/"
        },
        "id": "1U0GGh0QjuE3",
        "outputId": "8f606274-102b-4595-8778-5ea9b8646596"
      },
      "source": [
        "model.evaluate(X_test_pad, y_test)"
      ],
      "execution_count": null,
      "outputs": [
        {
          "output_type": "stream",
          "text": [
            "35/35 [==============================] - 3s 83ms/step - loss: 0.0856 - accuracy: 0.9794\n"
          ],
          "name": "stdout"
        },
        {
          "output_type": "execute_result",
          "data": {
            "text/plain": [
              "[0.08562514185905457, 0.9793722033500671]"
            ]
          },
          "metadata": {
            "tags": []
          },
          "execution_count": 106
        }
      ]
    },
    {
      "cell_type": "code",
      "metadata": {
        "id": "c_udMz1pmxsh"
      },
      "source": [
        ""
      ],
      "execution_count": null,
      "outputs": []
    }
  ]
}